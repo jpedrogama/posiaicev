{
  "nbformat": 4,
  "nbformat_minor": 0,
  "metadata": {
    "colab": {
      "provenance": [],
      "toc_visible": true,
      "authorship_tag": "ABX9TyNYUYTfGT0Iswzy0XMv8Vuz",
      "include_colab_link": true
    },
    "kernelspec": {
      "name": "python3",
      "display_name": "Python 3"
    },
    "language_info": {
      "name": "python"
    }
  },
  "cells": [
    {
      "cell_type": "markdown",
      "metadata": {
        "id": "view-in-github",
        "colab_type": "text"
      },
      "source": [
        "<a href=\"https://colab.research.google.com/github/jpedrogama/posiaicev/blob/main/Untitled0.ipynb\" target=\"_parent\"><img src=\"https://colab.research.google.com/assets/colab-badge.svg\" alt=\"Open In Colab\"/></a>"
      ]
    },
    {
      "cell_type": "code",
      "execution_count": 84,
      "metadata": {
        "colab": {
          "base_uri": "https://localhost:8080/"
        },
        "id": "KZdNocxEnVdn",
        "outputId": "d1513bce-8fa8-41f2-8ed7-8b98bc4d7a3c"
      },
      "outputs": [
        {
          "output_type": "stream",
          "name": "stdout",
          "text": [
            "['*', 1, 0, 0, 0]\n",
            "['*', 1, 0, 1, 0]\n",
            "['*', '*', '*', 1, 0]\n",
            "[1, 1, '*', 1, 0]\n",
            "[0, 0, '*', '*', '*']\n"
          ]
        }
      ],
      "source": [
        "matriz = [\n",
        "    [0,1,0,0,0],\n",
        "    [0,1,0,1,0],\n",
        "    [0,0,0,1,0],\n",
        "    [1,1,0,1,0],\n",
        "    [0,0,0,0,0],\n",
        "]\n",
        "\n",
        "def index_exists_matrix(matriz, indiceA, indiceB):\n",
        "    return ((0 <= indiceA < len(matriz)) and (0 <= indiceB < len(matriz[indiceA])))\n",
        "\n",
        "lastPosition = 0\n",
        "\n",
        "for indexy, posicaoy in enumerate(matriz):\n",
        "  for indexx, posicaox in enumerate(posicaoy):\n",
        "\n",
        "    if lastPosition > indexx:\n",
        "      continue\n",
        "\n",
        "    atual = matriz[indexy][indexx]\n",
        "\n",
        "    existe = '*' in matriz[indexy]\n",
        "\n",
        "    if atual == 1 and existe:\n",
        "      break\n",
        "\n",
        "    if indexy == 0 and indexx == 0:\n",
        "         matriz[indexy][indexx] = '*'\n",
        "\n",
        "\n",
        "    direita = matriz[indexy][indexx+1] if index_exists_matrix(matriz, indexy, indexx+1) else  -1\n",
        "    baixo = matriz[indexy+1][indexx] if index_exists_matrix(matriz, indexy+1, 0) else -1\n",
        "    esquerda = matriz[indexy][indexx-1] if index_exists_matrix(matriz, indexy ,indexx-1) else -1\n",
        "    cima = matriz[indexy-1][indexx] if index_exists_matrix(matriz, indexy-1, indexx) else -1\n",
        "    #print(f\"direita {direita}, baixo {baixo}, esquerda {esquerda}, cima {cima}\")\n",
        "\n",
        "    if direita != -1 and matriz[indexy][indexx+1] != 1:\n",
        "      matriz[indexy][indexx+1] = '*'\n",
        "      lastPosition = indexx+1\n",
        "    elif esquerda != -1 and matriz[indexy][indexx-1] != 1:\n",
        "      matriz[indexy][indexx-1] = '*'\n",
        "      lastPosition = indexx-1\n",
        "    elif baixo != -1 and matriz[indexy+1][indexx] != 1:\n",
        "      matriz[indexy+1][indexx] = '*'\n",
        "      lastPosition = indexx\n",
        "    elif cima != -1 and matriz[indexy-1][indexx] != 1:\n",
        "      matriz[indexy-1][indexx] = '*'\n",
        "      lastPosition = indexx\n",
        "\n",
        "\n",
        "for linha in matriz:\n",
        "    print(linha)"
      ]
    },
    {
      "cell_type": "markdown",
      "source": [
        "# Nova seção"
      ],
      "metadata": {
        "id": "feA6A7cipHln"
      }
    }
  ]
}