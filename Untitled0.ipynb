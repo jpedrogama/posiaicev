{
  "nbformat": 4,
  "nbformat_minor": 0,
  "metadata": {
    "colab": {
      "provenance": [],
      "toc_visible": true,
      "authorship_tag": "ABX9TyNqH+LlH0jLAIh+vY4YwBgM",
      "include_colab_link": true
    },
    "kernelspec": {
      "name": "python3",
      "display_name": "Python 3"
    },
    "language_info": {
      "name": "python"
    }
  },
  "cells": [
    {
      "cell_type": "markdown",
      "metadata": {
        "id": "view-in-github",
        "colab_type": "text"
      },
      "source": [
        "<a href=\"https://colab.research.google.com/github/jpedrogama/posiaicev/blob/main/Untitled0.ipynb\" target=\"_parent\"><img src=\"https://colab.research.google.com/assets/colab-badge.svg\" alt=\"Open In Colab\"/></a>"
      ]
    },
    {
      "cell_type": "code",
      "execution_count": 85,
      "metadata": {
        "colab": {
          "base_uri": "https://localhost:8080/"
        },
        "id": "KZdNocxEnVdn",
        "outputId": "42521e0c-dfe0-4123-abe2-71768dfa5604"
      },
      "outputs": [
        {
          "output_type": "stream",
          "name": "stdout",
          "text": [
            "    *     1     0     0     0\n",
            "    *     1     0     1     0\n",
            "    *     *     *     1     0\n",
            "    1     1     *     1     0\n",
            "    0     0     *     *     *\n"
          ]
        }
      ],
      "source": [
        "matriz = [\n",
        "    [0,1,0,0,0],\n",
        "    [0,1,0,1,0],\n",
        "    [0,0,0,1,0],\n",
        "    [1,1,0,1,0],\n",
        "    [0,0,0,0,0],\n",
        "]\n",
        "\n",
        "def index_exists_matrix(matriz, indiceA, indiceB):\n",
        "    return ((0 <= indiceA < len(matriz)) and (0 <= indiceB < len(matriz[indiceA])))\n",
        "\n",
        "#def mover(atual):\n",
        "\n",
        "\n",
        "lastPosition = 0\n",
        "\n",
        "for indexy, posicaoy in enumerate(matriz):\n",
        "  for indexx, posicaox in enumerate(posicaoy):\n",
        "\n",
        "    if lastPosition > indexx:\n",
        "      continue\n",
        "\n",
        "    atual = matriz[indexy][indexx]\n",
        "\n",
        "    existe = '*' in matriz[indexy]\n",
        "\n",
        "    if atual == 1 and existe:\n",
        "      break\n",
        "\n",
        "    if indexy == 0 and indexx == 0:\n",
        "         matriz[indexy][indexx] = '*'\n",
        "\n",
        "\n",
        "    direita = matriz[indexy][indexx+1] if index_exists_matrix(matriz, indexy, indexx+1) else  -1\n",
        "    baixo = matriz[indexy+1][indexx] if index_exists_matrix(matriz, indexy+1, 0) else -1\n",
        "    esquerda = matriz[indexy][indexx-1] if index_exists_matrix(matriz, indexy ,indexx-1) else -1\n",
        "    cima = matriz[indexy-1][indexx] if index_exists_matrix(matriz, indexy-1, indexx) else -1\n",
        "\n",
        "\n",
        "    if direita != -1 and matriz[indexy][indexx+1] != 1:\n",
        "      matriz[indexy][indexx+1] = '*'\n",
        "      lastPosition = indexx+1\n",
        "    elif esquerda != -1 and matriz[indexy][indexx-1] != 1:\n",
        "      matriz[indexy][indexx-1] = '*'\n",
        "      lastPosition = indexx-1\n",
        "    elif baixo != -1 and matriz[indexy+1][indexx] != 1:\n",
        "      matriz[indexy+1][indexx] = '*'\n",
        "      lastPosition = indexx\n",
        "    elif cima != -1 and matriz[indexy-1][indexx] != 1:\n",
        "      matriz[indexy-1][indexx] = '*'\n",
        "      lastPosition = indexx\n",
        "\n",
        "\n",
        "for linha in matriz:\n",
        "    print(' '.join(f'{item:>5}' for item in linha))"
      ]
    },
    {
      "cell_type": "markdown",
      "source": [
        "# Desafio 2"
      ],
      "metadata": {
        "id": "feA6A7cipHln"
      }
    },
    {
      "cell_type": "code",
      "source": [
        "import random\n",
        "\n",
        "meses = {\"Jan\": [\n",
        "    round(random.randint(0, 10000), 2) for _ in range(5)\n",
        "    ], \"Fev\": [\n",
        "        round(random.randint(0, 1000), 2) for _ in range(5)\n",
        "    ], \"Mar\": [\n",
        "        round(random.randint(0, 4000), 2) for _ in range(5)\n",
        "    ], \"Abr\": [\n",
        "        round(random.randint(0, 8000), 2) for _ in range(5)\n",
        "    ], \"Mai\": [\n",
        "        round(random.randint(0, 9000), 2) for _ in range(5)\n",
        "    ], \"Jun\": [\n",
        "        round(random.randint(0, 1000), 2) for _ in range(5)\n",
        "    ]}\n",
        "\n",
        "def media_vendas(lista):\n",
        "    return sum(lista) / len(lista)\n",
        "\n",
        "def maior_valor(lista):\n",
        "  return max(lista)\n",
        "\n",
        "def menor_valor(lista):\n",
        "  return min(lista)\n",
        "\n",
        "\n",
        "def meses_acima_valor(meses, ref):\n",
        "  meses_maior_venda = []\n",
        "  for chave, item in meses.items():\n",
        "    if ref < max(item):\n",
        "      meses_maior_venda.append(chave)\n",
        "\n",
        "  return \"Nao encontrao\" if len(meses_maior_venda) == 0 else meses_maior_venda\n",
        "\n",
        "todas_as_vendas = []\n",
        "\n",
        "for chave, item in meses.items():\n",
        "  todas_as_vendas = item + todas_as_vendas\n",
        "\n",
        "\n",
        "print(f\"Média: {media_vendas(todas_as_vendas):.2f}\")\n",
        "print(f\"Maior Valor: {maior_valor(todas_as_vendas):.2f} -- Menor Valor: {menor_valor(todas_as_vendas)}\")\n",
        "print(f\"Meses tiveram vendas acima de R$ 2000: {meses_acima_valor(meses, 2000)}\")\n"
      ],
      "metadata": {
        "colab": {
          "base_uri": "https://localhost:8080/"
        },
        "id": "cyo8vOg6GyKe",
        "outputId": "8f83d793-b91b-4e0d-9b1c-c8e94eac92ae"
      },
      "execution_count": 130,
      "outputs": [
        {
          "output_type": "stream",
          "name": "stdout",
          "text": [
            "Média: 2422.43\n",
            "Maior Valor: 8344.00 -- Menor Valor: 47\n",
            "Meses tiveram vendas acima de R$ 2000: ['Jan', 'Mar', 'Abr', 'Mai']\n"
          ]
        }
      ]
    }
  ]
}